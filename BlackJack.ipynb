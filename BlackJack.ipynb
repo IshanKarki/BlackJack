{
  "nbformat": 4,
  "nbformat_minor": 0,
  "metadata": {
    "colab": {
      "provenance": [],
      "authorship_tag": "ABX9TyN71ibrJ0hhM7Vmri5MSqR+",
      "include_colab_link": true
    },
    "kernelspec": {
      "name": "python3",
      "display_name": "Python 3"
    },
    "language_info": {
      "name": "python"
    }
  },
  "cells": [
    {
      "cell_type": "markdown",
      "metadata": {
        "id": "view-in-github",
        "colab_type": "text"
      },
      "source": [
        "<a href=\"https://colab.research.google.com/github/IshanKarki/BlackJack/blob/main/BlackJack.ipynb\" target=\"_parent\"><img src=\"https://colab.research.google.com/assets/colab-badge.svg\" alt=\"Open In Colab\"/></a>"
      ]
    },
    {
      "cell_type": "code",
      "execution_count": null,
      "metadata": {
        "colab": {
          "base_uri": "https://localhost:8080/"
        },
        "id": "02y3Fiv4Yg8Q",
        "outputId": "ca626702-45f2-4a93-9f4b-72ec01bd2fc0"
      },
      "outputs": [
        {
          "output_type": "stream",
          "name": "stdout",
          "text": [
            "this is practice test in google colabs\n"
          ]
        }
      ],
      "source": [
        "print('this is practice test in google colabs')"
      ]
    },
    {
      "cell_type": "code",
      "source": [
        "Name = 'Ishan Karki'"
      ],
      "metadata": {
        "id": "tOw0A6cXYnqT"
      },
      "execution_count": null,
      "outputs": []
    },
    {
      "cell_type": "code",
      "source": [
        "Age = 23"
      ],
      "metadata": {
        "id": "xFStKqVDY6jm"
      },
      "execution_count": null,
      "outputs": []
    },
    {
      "cell_type": "code",
      "source": [
        "hasAndroid = False"
      ],
      "metadata": {
        "id": "DNBummewY8fk"
      },
      "execution_count": null,
      "outputs": []
    },
    {
      "cell_type": "code",
      "source": [
        "person = {\n",
        "    'Name': Name,\n",
        "    'Age': Age,\n",
        "    'hasAndroid': hasAndroid\n",
        "}"
      ],
      "metadata": {
        "id": "IxzwPFizZDkm"
      },
      "execution_count": null,
      "outputs": []
    },
    {
      "cell_type": "code",
      "source": [
        "print('{} is {} years old and he owns an {}'.format(person['Name'], person['Age'], 'Android' if person['hasAndroid'] else 'iPhone'))"
      ],
      "metadata": {
        "colab": {
          "base_uri": "https://localhost:8080/"
        },
        "id": "_Q3HzMGuZiBc",
        "outputId": "9e1b453e-9629-42a9-b4ea-4581fc74e14e"
      },
      "execution_count": null,
      "outputs": [
        {
          "output_type": "stream",
          "name": "stdout",
          "text": [
            "Ishan Karki is 23 years old and he owns an iPhone\n"
          ]
        }
      ]
    },
    {
      "cell_type": "code",
      "source": [
        "#Lets code the BlackJack game"
      ],
      "metadata": {
        "id": "XWdRmCtyaV3f"
      },
      "execution_count": null,
      "outputs": []
    },
    {
      "cell_type": "code",
      "source": [
        "\n",
        "    # Return True if hand_1 beats hand_2, and False otherwise.\n",
        "\n",
        "    # In order for hand_1 to beat hand_2 the following must be true:\n",
        "    # - The total of hand_1 must not exceed 21\n",
        "    # - The total of hand_1 must exceed the total of hand_2 OR hand_2's total must exceed 21\n",
        "\n",
        "    # Hands are represented as a list of cards. Each card is represented by a string.\n",
        "\n",
        "    # When adding up a hand's total, cards with numbers count for that many points. Face\n",
        "    # cards ('J', 'Q', and 'K') are worth 10 points. 'A' can count for 1 or 11.\n",
        "\n",
        "    # When determining a hand's total, you should try to count aces in the way that\n",
        "    # maximizes the hand's total without going over 21. e.g. the total of ['A', 'A', '9'] is 21,\n",
        "    # the total of ['A', 'A', '9', '3'] is 14.\n",
        "\n",
        "    # Examples:\n",
        "    # >>> blackjack_hand_greater_than(['K'], ['3', '4'])\n",
        "    # True\n",
        "    # >>> blackjack_hand_greater_than(['K'], ['10'])\n",
        "    # False\n",
        "    # >>> blackjack_hand_greater_than(['K', 'K', '2'], ['3'])\n",
        "    # False\n"
      ],
      "metadata": {
        "id": "zA4rB_FEbUMM"
      },
      "execution_count": null,
      "outputs": []
    },
    {
      "cell_type": "code",
      "source": [
        "def helper(hand):\n",
        "    total = 0\n",
        "    aces = 0\n",
        "    for i in hand:\n",
        "        if i == 'A':\n",
        "            aces += 1\n",
        "        elif i in ['J', 'Q', 'K']:\n",
        "            total += 10\n",
        "        else:\n",
        "            total += int(i)\n",
        "\n",
        "    while total <= 10 and aces > 0:\n",
        "        total += 11\n",
        "        aces -= 1\n",
        "    total += aces\n",
        "    return total"
      ],
      "metadata": {
        "id": "HpzDjG9mdQOT"
      },
      "execution_count": null,
      "outputs": []
    },
    {
      "cell_type": "code",
      "source": [
        "def blackjack_hand_greater_than(hand_1, hand_2):\n",
        "    total_1 = helper(hand_1)\n",
        "    total_2 = helper(hand_2)\n",
        "    return total_1 <= 21 and (total_1 > total_2 or total_2 > 21)"
      ],
      "metadata": {
        "id": "E0KNxxBkec4S"
      },
      "execution_count": null,
      "outputs": []
    },
    {
      "cell_type": "code",
      "source": [
        "hand_1 = []\n",
        "hand_2 = []\n",
        "num1 = int(input('Enter the number of cards in hand 1 '))\n",
        "for i in range(num1):\n",
        "  x = input(\"Enter the card for Hand 1  \")\n",
        "  x = x.upper()\n",
        "  hand_1.append(x)\n",
        "print(hand_1)\n",
        "\n",
        "num2 = int(input('Enter the number of cards in hand 2 '))\n",
        "for j in range(num2):\n",
        "  y = input(\"Enter the card for Hand 2  \")\n",
        "  y = y.upper()\n",
        "  hand_2.append(y)\n",
        "print(hand_2)\n",
        "\n",
        "\n",
        "# if len(x) > 1 or len(y) > 1:\n",
        "#   raise Exception('You have entered an invalid card input !!!')\n"
      ],
      "metadata": {
        "colab": {
          "base_uri": "https://localhost:8080/"
        },
        "id": "Ono0trdSed6f",
        "outputId": "2bb1abe5-9038-4337-b667-b362649172e5"
      },
      "execution_count": null,
      "outputs": [
        {
          "output_type": "stream",
          "name": "stdout",
          "text": [
            "Enter the number of cards in hand 1 2\n",
            "Enter the card for Hand 1  a\n",
            "Enter the card for Hand 1  q\n",
            "['A', 'Q']\n",
            "Enter the number of cards in hand 2 1\n",
            "Enter the card for Hand 2  a\n",
            "['A']\n"
          ]
        }
      ]
    },
    {
      "cell_type": "code",
      "source": [
        "blackjack_hand_greater_than(hand_1, hand_2)"
      ],
      "metadata": {
        "colab": {
          "base_uri": "https://localhost:8080/"
        },
        "id": "_hunfQluxUu4",
        "outputId": "d79fa00e-8bbc-49de-c15d-6af6848e4fc7"
      },
      "execution_count": null,
      "outputs": [
        {
          "output_type": "execute_result",
          "data": {
            "text/plain": [
              "True"
            ]
          },
          "metadata": {},
          "execution_count": 52
        }
      ]
    },
    {
      "cell_type": "code",
      "source": [],
      "metadata": {
        "id": "XYXeFj6zfGWN"
      },
      "execution_count": null,
      "outputs": []
    }
  ]
}